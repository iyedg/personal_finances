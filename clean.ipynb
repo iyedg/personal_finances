{
 "cells": [
  {
   "cell_type": "code",
   "execution_count": 1,
   "metadata": {},
   "outputs": [],
   "source": [
    "import pandas as pd\n",
    "import seaborn as sns\n",
    "sns.set_style(\"whitegrid\")"
   ]
  },
  {
   "cell_type": "markdown",
   "metadata": {},
   "source": [
    "## Loading datasets"
   ]
  },
  {
   "cell_type": "code",
   "execution_count": 2,
   "metadata": {},
   "outputs": [],
   "source": [
    "set1 = pd.read_csv(\"./set1.csv\")\n",
    "set2 = pd.read_csv(\"./set2.csv\")\n",
    "set3 = pd.read_csv(\"./set3.csv\")\n",
    "set4 = pd.read_excel(\"./set4.xlsx\", sheet_name=None)\n",
    "set5 = pd.read_excel(\"./set5.xlsx\", sheet_name=\"E31-17\")\n",
    "set6 = pd.read_csv(\"./set6.csv\")"
   ]
  },
  {
   "cell_type": "code",
   "execution_count": 3,
   "metadata": {},
   "outputs": [],
   "source": [
    "sets = [set1, set2, set3, set5, set6]\n",
    "sets.extend([set4[i] for i in set4])\n",
    "df = pd.concat(sets)"
   ]
  },
  {
   "cell_type": "markdown",
   "metadata": {},
   "source": [
    "## Helpers"
   ]
  },
  {
   "cell_type": "code",
   "execution_count": 4,
   "metadata": {},
   "outputs": [],
   "source": [
    "def combine_verif(df, first, other):\n",
    "    \"\"\"\n",
    "    Verfy there are no instances where the two \n",
    "    columns have a non null value simultaneously\n",
    "    \"\"\"\n",
    "    return len(df[df[first].notnull() & df[other].notnull()]) == 0"
   ]
  },
  {
   "cell_type": "markdown",
   "metadata": {},
   "source": [
    "## Drop unused columns for the analysis"
   ]
  },
  {
   "cell_type": "code",
   "execution_count": 5,
   "metadata": {},
   "outputs": [],
   "source": [
    "df.dropna(axis=\"index\", how=\"all\", inplace=True)"
   ]
  },
  {
   "cell_type": "code",
   "execution_count": 6,
   "metadata": {},
   "outputs": [],
   "source": [
    "# Drop `barcode` because it was never used\n",
    "# Drop `week` because it can be infered from the date\n",
    "# Drop `timestamp` because it is Google sheets specific\n",
    "# Drop `Status` because by now all transactions are posted\n",
    "# Drop `Paid amount` because it can be infered from the amount and the shared value\n",
    "df.drop(columns=[\"Barcode\", \"Week\", \"Timestamp\", \"Status\", \"Paid amount\"], inplace=True)"
   ]
  },
  {
   "cell_type": "markdown",
   "metadata": {},
   "source": [
    "## Combine columns with same data"
   ]
  },
  {
   "cell_type": "code",
   "execution_count": 7,
   "metadata": {},
   "outputs": [],
   "source": [
    "# Combine Account and Payment method\n",
    "#df.Account = df.Account.combine_first(df[\"Payment method\"])\n",
    "#df.Account.replace(\"Savings account\", \"Bank account\", inplace=True)\n",
    "#df.Account.fillna(\"Cash\", inplace=True)\n",
    "# Drop because no longer needed\n",
    "df.drop(columns=[\"Payment method\", \"Account\"], inplace=True) # Dropped because all values were cash after moving forward with cleaning"
   ]
  },
  {
   "cell_type": "code",
   "execution_count": 8,
   "metadata": {},
   "outputs": [],
   "source": [
    "# Combine Item and Expense\n",
    "df.Item = df.Item.combine_first(df.Expense)\n",
    "# Drop because no longer needed\n",
    "df.drop(columns=[\"Expense\"], inplace=True)"
   ]
  },
  {
   "cell_type": "code",
   "execution_count": 10,
   "metadata": {},
   "outputs": [],
   "source": [
    "# Combine Amount and Monetary value\n",
    "df.Amount = df.Amount.combine_first(df[\"Monetary value\"])\n",
    "# Cleanup currency symbol as it is all in one currency\n",
    "df.Amount = df.Amount.transform(lambda x: float(str(x).replace(\"TND\", \"\").replace(\"din\", \"\")))\n",
    "# Since all values are expenses, all of them can be positive keeping the fact they are expenses in mind\n",
    "df.Amount = df.Amount.transform(abs)\n",
    "# Multiply by 1000 to avoid floating points, using Millimes instead of Dinars\n",
    "df.Amount = df.Amount.transform(lambda x: x * 1000)\n",
    "# Drop because no longer needed\n",
    "df.drop(columns=[\"Monetary value\"], inplace=True)"
   ]
  },
  {
   "cell_type": "code",
   "execution_count": 11,
   "metadata": {},
   "outputs": [],
   "source": [
    "# Combine Location and Payee\n",
    "df.Payee = df.Payee.combine_first(df.Location)\n",
    "# Drop because no longer needed\n",
    "df.drop(columns=\"Location\", inplace=True)"
   ]
  },
  {
   "cell_type": "markdown",
   "metadata": {},
   "source": [
    "## Clean rows"
   ]
  },
  {
   "cell_type": "code",
   "execution_count": 12,
   "metadata": {},
   "outputs": [],
   "source": [
    "# Cannot use obeservations without items\n",
    "df.drop(df[df.Item.isnull()].index, inplace=True)\n",
    "# Cannot use obeservations without dates\n",
    "df.drop(df[df.Date.isnull()].index, inplace=True)"
   ]
  },
  {
   "cell_type": "code",
   "execution_count": 13,
   "metadata": {},
   "outputs": [],
   "source": [
    "# Consider only expenses\n",
    "df.drop(labels=df[df.Category == \"Income\"].index, inplace=True)\n",
    "df.drop(labels=df[df.Category == \"Transfer\"].index, inplace=True)\n",
    "df.drop(labels=df[df.Item == \"Income\"].index, inplace=True)\n",
    "df.drop(labels=df[(df.Item == \"Adjustement\") | (df.Category == \"Adjustment\")].index, inplace=True)\n",
    "df.drop(labels=df[df.Category == \"Cash\"].index, inplace=True)\n",
    "df.drop(labels=df[df.Item == \"Settle up loan\"].index, inplace=True)\n",
    "df.drop(labels=df[df.Item == \"Given to dad\"].index, inplace=True)\n",
    "df.drop(labels=df[df.Item == \"Loan\"].index, inplace=True)"
   ]
  },
  {
   "cell_type": "markdown",
   "metadata": {},
   "source": [
    "## Parse dates"
   ]
  },
  {
   "cell_type": "code",
   "execution_count": 14,
   "metadata": {},
   "outputs": [],
   "source": [
    "df.Date = pd.to_datetime(df.Date)"
   ]
  }
 ],
 "metadata": {
  "kernelspec": {
   "display_name": "Python 3",
   "language": "python",
   "name": "python3"
  },
  "language_info": {
   "codemirror_mode": {
    "name": "ipython",
    "version": 3
   },
   "file_extension": ".py",
   "mimetype": "text/x-python",
   "name": "python",
   "nbconvert_exporter": "python",
   "pygments_lexer": "ipython3",
   "version": "3.6.3"
  }
 },
 "nbformat": 4,
 "nbformat_minor": 2
}
